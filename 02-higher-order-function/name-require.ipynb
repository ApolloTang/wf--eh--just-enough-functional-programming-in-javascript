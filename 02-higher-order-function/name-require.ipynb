{
 "cells": [
  {
   "cell_type": "code",
   "execution_count": 1,
   "metadata": {},
   "outputs": [
    {
     "name": "stdout",
     "output_type": "stream",
     "text": [
      "Call count: 1\n",
      "[ 1, 2, 3 ]\n",
      "Call count: 2\n",
      "[ 1, 2, 3 ]\n",
      "Call count: 3\n",
      "[ 1, 2, 3 ]\n"
     ]
    }
   ],
   "source": [
    "const withCount = fn => {\n",
    "    let count = 0\n",
    "    return (...args) => {\n",
    "        // This returned function have access to the variable `count`\n",
    "        console.log(`Call count: ${++count}`)\n",
    "\n",
    "        return fn(...args)\n",
    "    } \n",
    "} \n",
    "\n",
    "const foo = withCount((...args)=>console.log(args))\n",
    "foo(1,2,3)\n",
    "foo(1,2,3)\n",
    "foo(1,2,3)"
   ]
  },
  {
   "cell_type": "markdown",
   "metadata": {},
   "source": []
  }
 ],
 "metadata": {
  "kernelspec": {
   "display_name": "JavaScript",
   "language": "javascript",
   "name": "jslab"
  },
  "language_info": {
   "file_extension": ".js",
   "mimetype": "text/javascript",
   "name": "javascript",
   "version": ""
  },
  "orig_nbformat": 4
 },
 "nbformat": 4,
 "nbformat_minor": 2
}
